{
 "cells": [
  {
   "cell_type": "code",
   "execution_count": null,
   "metadata": {},
   "outputs": [],
   "source": [
    "import textblob\n",
    "import nltk\n",
    "import numpy as np\n",
    "from textblob import TextBlob\n",
    "from pathlib import Path\n",
    "import pandas as pd\n",
    "import csv\n",
    "import re\n",
    "import time\n",
    "import string\n",
    "from textblob.sentiments import NaiveBayesAnalyzer\n",
    "from nltk.corpus import stopwords          # module for stop words that come with NLTK\n",
    "from nltk.stem import PorterStemmer        # module for stemming\n",
    "from nltk.tokenize import TweetTokenizer   # module for tokenizing strings\n",
    "nltk.download(\"punkt\")\n",
    "nltk.download(\"brown\")\n",
    "nltk.download('movie_reviews')"
   ]
  },
  {
   "cell_type": "code",
   "execution_count": null,
   "metadata": {},
   "outputs": [],
   "source": [
    "df = pd.read_csv('Tweets.csv')"
   ]
  },
  {
   "cell_type": "code",
   "execution_count": null,
   "metadata": {},
   "outputs": [],
   "source": [
    "def num_pos():\n",
    "    pos = []\n",
    "    tweets = df['tweet'].tolist()\n",
    "    naive_bayes = NaiveBayesAnalyzer()\n",
    "    for tt in tweets:\n",
    "        blob = TextBlob(str(tt), analyzer=naive_bayes)\n",
    "        pos.append(blob.sentiment.p_pos)\n",
    "\n",
    "    return pos"
   ]
  },
  {
   "cell_type": "code",
   "execution_count": null,
   "metadata": {},
   "outputs": [],
   "source": [
    "poses = num_pos()\n",
    "df['positive'] = poses\n",
    "df.to_csv('tweets_positive.csv')"
   ]
  },
  {
   "cell_type": "code",
   "execution_count": null,
   "metadata": {},
   "outputs": [],
   "source": [
    "def num_neg():\n",
    "    neg = []\n",
    "    tweets = df['tweet'].tolist()\n",
    "    naive_bayes = NaiveBayesAnalyzer()\n",
    "    for tt in tweets:\n",
    "        blob = TextBlob(str(tt), analyzer=naive_bayes)\n",
    "        neg.append(blob.sentiment.p_neg)\n",
    "    return neg"
   ]
  },
  {
   "cell_type": "code",
   "execution_count": null,
   "metadata": {},
   "outputs": [],
   "source": [
    "poses = num_neg()\n",
    "df['negative'] = poses\n",
    "df.to_csv('tweets_negative.csv')"
   ]
  },
  {
   "cell_type": "code",
   "execution_count": null,
   "metadata": {},
   "outputs": [],
   "source": [
    "def num_pal():\n",
    "    tweets = df['tweet'].tolist()\n",
    "    count = 0\n",
    "    total_words = []\n",
    "    for tt in tweets:\n",
    "        words = str(tt)\n",
    "        words.split(' ')\n",
    "        for word in words:\n",
    "            count = count + 1\n",
    "            total_words.append(count)\n",
    "            count = 0\n",
    "    return total_words"
   ]
  },
  {
   "cell_type": "code",
   "execution_count": null,
   "metadata": {},
   "outputs": [],
   "source": [
    "words = num_pal()\n",
    "df['Words'] = words\n",
    "df.to_csv('tweets_finished.csv')"
   ]
  }
 ],
 "metadata": {
  "language_info": {
   "name": "python"
  },
  "orig_nbformat": 4
 },
 "nbformat": 4,
 "nbformat_minor": 2
}
